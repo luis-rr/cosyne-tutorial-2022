{
 "cells": [
  {
   "cell_type": "markdown",
   "id": "e8f51d89",
   "metadata": {},
   "source": [
    "# Coincidence detection and sound localisation\n",
    "\n",
    "This notebook shows some Python + Brian code to simulate spiking neural networks solving a sound localisation task using coincidence detection.\n",
    "\n",
    "[Brian](https://briansimulator.org) is a Python-based spiking neural network simulator package. It is simple to install and has extensive documentation. I recommend it for this course and more generally. It is entirely coincidental that I'm one of the authors.\n",
    "\n",
    "## The model\n",
    "\n",
    "In this notebook, which leads in to the exercise for the first half of the tutorial, we'll construct a highly simplified model of sound localisation carried out by coincidence detection and delay lines. This model was proposed by [Jeffress (1948)]() and is explained in more detail [here](http://www.scholarpedia.org/article/Jeffress_model).\n",
    "\n",
    "The basic idea is that you have an incoming auditory signal arriving from some angle $\\theta$, so it arrives at one ear earlier than the other:\n",
    "\n",
    "![ITD](itd.png)\n",
    "\n",
    "We call the difference in arrival time the *interaural time difference* or ITD. In this notebook, the signal will be a sine wave at frequency $f$ and so this time difference is ambiguous and becomes an *interaural phase difference* (IPD). The two are related by $\\mathrm{IPD}=2\\pi f\\cdot\\mathrm{ITD}$.\n",
    "\n",
    "In Jeffress' model the brain tries to infer the ITD by compensating with multiple neural delay lines:\n",
    "\n",
    "![Jeffress](jeffress.png)\n",
    "\n",
    "Each circle is a coincidence detector neuron, and the signal travels along the lines at a fixed speed. So, the signal from the left ear reaches the leftmost coincidence detector neuron first, and the rightmost neuron last. The signal from the right ear is the opposite, it reaches the rightmost neuron first and the leftmost neuron last. For each neuron there is a *best ITD* where the neural delays exactly compensate the acoustic delays (ITD). Since coincidence detector neurons fire more frequently if they are receiving inputs that are more similar, you can estimate the ITD of the sound by which neuron is firing at the highest rate (you estimate that the ITD of the sound is the best ITD of that neuron).\n",
    "\n",
    "## Coding it up\n",
    "\n",
    "In the rest of this notebook, we'll turn this idea into code."
   ]
  },
  {
   "cell_type": "markdown",
   "id": "ddab1c07",
   "metadata": {},
   "source": [
    "First of all, we import the plotting libraries and the Brian simulator package. Note that I'm doing some funky stuff here to make it work locally and also in Google Colab, etc.\n",
    "\n",
    "You can ignore the ``prefs.codegen...`` line for the moment. It makes it run faster for small models but slower for fast models, so it's handy for demos."
   ]
  },
  {
   "cell_type": "code",
   "execution_count": 1,
   "id": "e1977227",
   "metadata": {},
   "outputs": [],
   "source": [
    "try:\n",
    "    import ipywidgets as widgets\n",
    "except ImportError:\n",
    "    widgets = None\n",
    "    \n",
    "try:\n",
    "    import brian2\n",
    "except ImportError:\n",
    "    !pip install brian2\n",
    "    \n",
    "%matplotlib inline\n",
    "from brian2 import *\n",
    "import matplotlib.gridspec as gridspec\n",
    "\n",
    "prefs.codegen.target = 'numpy'"
   ]
  },
  {
   "cell_type": "markdown",
   "id": "8e8ea200",
   "metadata": {},
   "source": [
    "### Input signal\n",
    "\n",
    "Now we set up the input signal model. We'll have the two ears receive two sine waves with different phase delays, ear 0 will have no delay, and ear 1 will have a delay of ``ipd``. Then, we'll have the neurons generate spikes as a Poisson process with firing rate ``rate_max*0.5*(1+sin(theta))``. We model this in Brian by having a spike threshold condition ``rand()<rate*dt`` where ``rand()`` is a uniform random number in ``[0, 1]`` and ``dt`` is the simulation time step. We can take a look at what this model looks like by running the cell below."
   ]
  },
  {
   "cell_type": "code",
   "execution_count": 2,
   "id": "8cb7d776",
   "metadata": {},
   "outputs": [
    {
     "data": {
      "application/vnd.jupyter.widget-view+json": {
       "model_id": "a5bb506c71b84f5d901c35ecdc194d40",
       "version_major": 2,
       "version_minor": 0
      },
      "text/plain": [
       "interactive(children=(IntSlider(value=100, continuous_update=False, description='rate_max_Hz', max=200, min=10…"
      ]
     },
     "metadata": {},
     "output_type": "display_data"
    }
   ],
   "source": [
    "def input_signal(rate_max_Hz=100, ipd_deg=90, f_Hz=3):\n",
    "    # We can't use values with units in the widgets, so we add the units first\n",
    "    rate_max = rate_max_Hz*Hz\n",
    "    ipd = (pi/180)*ipd_deg\n",
    "    f = f_Hz*Hz\n",
    "    \n",
    "    # These are the equations governing the ear neurons. Take a look at the\n",
    "    # Brian documentation for an explanation, but the only thing you might\n",
    "    # find non-obvious hopefully is the \": 1\" and \": Hz\" which tells Brian\n",
    "    # what the units of the variable being defined are (1 means dimensionless).\n",
    "    # Also note that the variable \"i\" is defined in Brian to be the index of\n",
    "    # the neuron, so for neuron 0 it will be 0 and for neuron 1 it will be 1,\n",
    "    # allowing us to make the input signal different for the two ears.\n",
    "    eqs_ears = '''\n",
    "    theta = 2*pi*f*t + i*ipd : 1\n",
    "    rate = rate_max*0.5*(1+sin(theta)) : Hz\n",
    "    '''\n",
    "    \n",
    "    # Create a group of 2 neurons with these equations, that fires a spike\n",
    "    # according to a Poisson process with the given time-varying rate. We\n",
    "    # use a dt of 1ms to speed up the simulation for interactivity, but later\n",
    "    # we'll use a better default of 0.1ms.\n",
    "    ears = NeuronGroup(2, eqs_ears, threshold='rand()<rate*dt', dt=1*ms)\n",
    "    \n",
    "    # Record the spikes and values of the rate as we run the simulation\n",
    "    M_spike = SpikeMonitor(ears)\n",
    "    M_state = StateMonitor(ears, 'rate', record=True)\n",
    "    \n",
    "    # Run the simulation for 1 second\n",
    "    run(1*second)\n",
    "\n",
    "    # Now plot the results. I won't explain in detail because it's mostly\n",
    "    # just fiddly matplotlib stuff to make it look nice.\n",
    "    trains = M_spike.spike_trains()\n",
    "    fig = figure(figsize=(4, 2), dpi=200)\n",
    "    gs = gridspec.GridSpec(2, 1, hspace=0, height_ratios=[1, .3])\n",
    "    ax = subplot(gs[0])\n",
    "    plot(M_state.t/ms, M_state.rate[0]/Hz, label='Left ear')\n",
    "    plot(M_state.t/ms, M_state.rate[1]/Hz, label='Right ear')\n",
    "    legend(loc='upper right')\n",
    "    gca().set_frame_on(False)\n",
    "    ylabel('Rate')\n",
    "    yticks([])\n",
    "    xticks([])\n",
    "    ylim(-10, 210)\n",
    "    subplot(gs[1], sharex=ax)\n",
    "    plot(trains[0]/ms, [0]*len(trains[0]), '|')\n",
    "    plot(trains[1]/ms, [1]*len(trains[1]), '|')\n",
    "    ylim(-1, 2)\n",
    "    gca().set_frame_on(False)\n",
    "    xlabel('Time')\n",
    "    ylabel('Spikes')\n",
    "    yticks([])\n",
    "    xticks([])\n",
    "    tight_layout()\n",
    "\n",
    "if widgets is not None:\n",
    "    widgets.interact(input_signal,\n",
    "        rate_max_Hz=widgets.IntSlider(min=10, max=200, value=100, step=10, continuous_update=False),\n",
    "        ipd_deg=widgets.IntSlider(min=0, max=360, value=90, step=10, continuous_update=False),\n",
    "        f_Hz=widgets.FloatSlider(min=0, max=10, value=3, step=.1, continuous_update=False),\n",
    "        );\n",
    "else:\n",
    "    input_signal()"
   ]
  },
  {
   "cell_type": "markdown",
   "id": "738006cf",
   "metadata": {},
   "source": [
    "### Coincidence detectors\n",
    "\n",
    "Now we're going to set up the coincidence detector neurons. We'll use $N$ neurons with best delays equally distributed between 0 and $\\mathrm{ITD}_\\mathrm{max}=1/f$. The coincidence detector neurons are standard LIF neurons like we've seen before, but we store a copy of their best IPD and best ITD. Next, we create synapses from the ear neurons to the coincidence detector neurons where the synaptic delay from ear 0 is 0, and from ear 1 is the best ITD of that neuron. We use a small time constant $\\tau$ to get strong coincidence detection, and plot the results."
   ]
  },
  {
   "cell_type": "code",
   "execution_count": 3,
   "id": "5eeb5863",
   "metadata": {},
   "outputs": [
    {
     "data": {
      "application/vnd.jupyter.widget-view+json": {
       "model_id": "044619c1f48e444787e941f50301741d",
       "version_major": 2,
       "version_minor": 0
      },
      "text/plain": [
       "interactive(children=(IntSlider(value=400, continuous_update=False, description='rate_max_Hz', max=1000, min=1…"
      ]
     },
     "metadata": {},
     "output_type": "display_data"
    }
   ],
   "source": [
    "def localise(rate_max_Hz=400, ipd_deg=200, f_Hz=50, w=0.5, tau_ms=1, N_cd=100, duration=1*second):\n",
    "    rate_max = rate_max_Hz*Hz\n",
    "    ipd = (pi/180)*ipd_deg\n",
    "    f = f_Hz*Hz\n",
    "    tau = tau_ms*ms\n",
    "    itd = ipd/(2*pi*f)\n",
    "\n",
    "    # One difference from before is that we handle edge effects here, by making sure the signal\n",
    "    # is the same on both sides by padding with rate=0.5*rate_max at the beginning/end. The\n",
    "    # code for this is a bit clever/tricky and not essential to understand immediately.\n",
    "    eqs_ears = '''\n",
    "    theta = 2*pi*f*t + i*ipd : 1\n",
    "    signal_is_on = int(t<duration-itd)*int(i==0)+int(t>itd)*int(i==1) : 1\n",
    "    rate = rate_max*0.5*(1+signal_is_on*sin(theta)) : Hz\n",
    "    '''\n",
    "\n",
    "    ears = NeuronGroup(2, eqs_ears, threshold='rand()<rate*dt')\n",
    "    \n",
    "    # Standard LIF neuron but with added best IPD and best ITD that depends on the neuron\n",
    "    # index (equally distributed in the possible range).\n",
    "    eqs_cd = '''\n",
    "    dv/dt = -v/tau : 1\n",
    "    best_ipd = 2*pi*i/(N_cd-1) : 1\n",
    "    best_itd = best_ipd/(2*pi*f) : second\n",
    "    '''\n",
    "    cd = NeuronGroup(N_cd, eqs_cd, threshold='v>1', reset='v=0', method='exact')\n",
    "    \n",
    "    # Synapses from the ears to the coincidence detector neurons. If a presynaptic neuron\n",
    "    # fires, the postsynaptic v value is increased by w.\n",
    "    S = Synapses(ears, cd, on_pre='v += w')\n",
    "    # All presynaptic neurons connected to all postsynaptic neurons\n",
    "    S.connect(p=1)\n",
    "    # Delays are 0 by default, so we set the delays for where the presynaptic neuron has\n",
    "    # index 1 (the right ear) to be the best_itd of the post-synaptic neuron.\n",
    "    S.delay['i==1'] = 'best_itd'\n",
    "    \n",
    "    M = SpikeMonitor(cd)\n",
    "    \n",
    "    run(duration)\n",
    "    \n",
    "    # We take as our estimate the mean best IPD of all neurons with\n",
    "    # the maximum spike count\n",
    "    i = max(M.count)\n",
    "    I = M.count==i\n",
    "    ipd_est = mean(cd.best_ipd[I])\n",
    "    \n",
    "    figure(figsize=(6, 4), dpi=100)\n",
    "    plot(cd.best_ipd[I]*180/pi, M.count[I], 'or')\n",
    "    plot(cd.best_ipd*(180/pi), M.count, '.k')\n",
    "    axvline(ipd_deg, ls='--', c='b', label='True IPD')\n",
    "    axvline(ipd_est*180/pi, ls='--', c='r', label='Estimated IPD')\n",
    "    xlabel('IPD (deg)')\n",
    "    ylabel('Spike count')\n",
    "    legend(loc='lower right')\n",
    "    tight_layout()\n",
    "    \n",
    "\n",
    "if widgets is not None:\n",
    "    widgets.interact(localise,\n",
    "        rate_max_Hz=widgets.IntSlider(min=10, max=1000, value=400, step=10, continuous_update=False),\n",
    "        ipd_deg=widgets.IntSlider(min=0, max=360, value=90, step=10, continuous_update=False),\n",
    "        f_Hz=widgets.IntSlider(min=0, max=200, value=50, step=5, continuous_update=False),\n",
    "        w=widgets.FloatSlider(min=.1, max=1, value=.5, step=.1, continuous_update=False),\n",
    "        tau_ms=widgets.FloatSlider(min=.1, max=10, value=1, step=.1, continuous_update=False),\n",
    "        N_cd=widgets.IntSlider(min=10, max=1000, value=100, step=10, continuous_update=False),\n",
    "        duration=widgets.fixed(1*second),\n",
    "        );\n",
    "else:\n",
    "    localise()"
   ]
  },
  {
   "cell_type": "markdown",
   "id": "e5571c30",
   "metadata": {},
   "source": [
    "### Evaluating performance\n",
    "\n",
    "How well does this model perform? Let's try it out. We'll run it once for each IPD from 0 to 360 degrees in steps of 10 degrees, and plot the estimated IPDs and errors as a function of IPD, and compute the mean error.\n",
    "\n",
    "We'll separate out the functions a bit. The first function computes the input signal and returns the spike times. The second function estimates the IPD from it. This is partly for the exercise (below) but also just to make sure we're not accidentally using information about the true answer when computing our estimate."
   ]
  },
  {
   "cell_type": "code",
   "execution_count": 4,
   "id": "5db742a7",
   "metadata": {},
   "outputs": [
    {
     "name": "stdout",
     "output_type": "stream",
     "text": [
      "Requirement already satisfied: tqdm in /home/riquelmej/opt/anaconda3/envs/cosyne22_brian/lib/python3.10/site-packages (4.63.0)\r\n"
     ]
    }
   ],
   "source": [
    "!pip install tqdm\n",
    "from tqdm.auto import tqdm"
   ]
  },
  {
   "cell_type": "code",
   "execution_count": 5,
   "id": "9e27928e",
   "metadata": {},
   "outputs": [],
   "source": [
    "rate_max = 400*Hz\n",
    "f = 50*Hz\n",
    "duration = 1*second\n",
    "w = 0.5\n",
    "tau = 1*ms\n",
    "N_cd = 100\n",
    "\n",
    "# This one generates an input signal and returns a pair (i, t) of\n",
    "# arrays with i the spike indices (0 or 1 as there are 2 neurons)\n",
    "# and t the corresponding spike times.\n",
    "def generate_input_signal(ipd):\n",
    "    itd = ipd/(2*pi*f)\n",
    "\n",
    "    eqs_ears = '''\n",
    "    theta = 2*pi*f*t + i*ipd : 1\n",
    "    signal_is_on = int(t<duration-itd)*int(i==0)+int(t>itd)*int(i==1) : 1\n",
    "    rate = rate_max*0.5*(1+signal_is_on*sin(theta)) : Hz\n",
    "    '''\n",
    "\n",
    "    ears = NeuronGroup(2, eqs_ears, threshold='rand()<rate*dt')\n",
    "    \n",
    "    M = SpikeMonitor(ears)\n",
    "\n",
    "    run(duration)\n",
    "    \n",
    "    return M.i, M.t\n",
    "\n",
    "\n",
    "# This one performs the localisation from before, using just those\n",
    "# arrays returned by the previous function, which we convert into\n",
    "# a group of neurons in Brian using SpikeGeneratorGroup\n",
    "def localise_from_input(i, t):\n",
    "    ears = SpikeGeneratorGroup(2, i, t)\n",
    "    \n",
    "    eqs_cd = '''\n",
    "    dv/dt = -v/tau : 1\n",
    "    best_ipd = 2*pi*i/(N_cd-1) : 1\n",
    "    best_itd = best_ipd/(2*pi*f) : second\n",
    "    '''\n",
    "    cd = NeuronGroup(N_cd, eqs_cd, threshold='v>1', reset='v=0', method='exact')\n",
    "    \n",
    "    S = Synapses(ears, cd, on_pre='v += w')\n",
    "    S.connect(p=1)\n",
    "    S.delay['i==1'] = 'best_itd'\n",
    "    \n",
    "    M = SpikeMonitor(cd)\n",
    "    \n",
    "    run(duration)\n",
    "    \n",
    "    i = max(M.count)\n",
    "    I = M.count==i\n",
    "    ipd_est = mean(cd.best_ipd[I])\n",
    "    \n",
    "    return ipd_est\n",
    "\n",
    "\n",
    "def generate_and_localise(ipd, localiser):\n",
    "    i, t = generate_input_signal(ipd)\n",
    "    return localiser(i, t)\n",
    "\n",
    "def generate_results(localiser, step_deg=10):\n",
    "    ipds = arange(0, 360, step_deg)*pi/180\n",
    "    ipds_est = array([generate_and_localise(ipd, localiser) for ipd in tqdm(ipds)])\n",
    "    return ipds, ipds_est"
   ]
  },
  {
   "cell_type": "code",
   "execution_count": 6,
   "id": "4bf80147",
   "metadata": {},
   "outputs": [
    {
     "data": {
      "application/vnd.jupyter.widget-view+json": {
       "model_id": "bcb52530d2ee40dc8dedcc88aff40d0d",
       "version_major": 2,
       "version_minor": 0
      },
      "text/plain": [
       "  0%|          | 0/36 [00:00<?, ?it/s]"
      ]
     },
     "metadata": {},
     "output_type": "display_data"
    }
   ],
   "source": [
    "# This will take a minute or so to run.\n",
    "ipds, ipds_est = generate_results(localise_from_input)"
   ]
  },
  {
   "cell_type": "code",
   "execution_count": 7,
   "id": "e07e7053",
   "metadata": {},
   "outputs": [
    {
     "data": {
      "image/png": "[encoded data removed]",
      "text/plain": [
       "<Figure size 800x400 with 2 Axes>"
      ]
     },
     "metadata": {
      "needs_background": "light"
     },
     "output_type": "display_data"
    }
   ],
   "source": [
    "# Mean error should be calculated in a circular fashion\n",
    "# Giving 359 degrees when the answer is 0 is 1 degree not 359\n",
    "# So compute +-360 deg and take the minimum\n",
    "def compute_errors(ipds, ipds_est):\n",
    "    ipds_est_circ = array([ipds_est, ipds_est+2*pi, ipds_est-2*pi])\n",
    "    abs_errors_circ = abs(ipds[newaxis, :]-ipds_est_circ)\n",
    "    abs_errors_deg = amin(abs_errors_circ, axis=0)*180/pi\n",
    "    return abs_errors_deg\n",
    "\n",
    "\n",
    "def plot_results(ipds, ipds_est):\n",
    "    abs_errors_deg = compute_errors(ipds, ipds_est)\n",
    "    figure(figsize=(8, 4), dpi=100)\n",
    "    subplot(121)\n",
    "    plot(ipds*180/pi, ipds_est*180/pi, '.k')\n",
    "    plot([0, 360], [0, 360], '--g')\n",
    "    xlabel('True IPD (deg)')\n",
    "    ylabel('Estimated IPD (deg)')\n",
    "    subplot(122)\n",
    "    plot(ipds*180/pi, abs_errors_deg, '.k')\n",
    "    mean_abs_error_deg = mean(abs_errors_deg)\n",
    "    axhline(mean_abs_error_deg, ls='--', c='b', label=f'Mean error = {int(mean_abs_error_deg)}')\n",
    "    xlabel('True IPD (deg)')\n",
    "    ylabel('Absolute error (deg)')\n",
    "    legend(loc='best')\n",
    "    tight_layout();\n",
    "    \n",
    "plot_results(ipds, ipds_est)"
   ]
  },
  {
   "cell_type": "markdown",
   "id": "141c5b0e",
   "metadata": {},
   "source": [
    "## Exercise\n",
    "\n",
    "Can you do better than the network above? Limit yourself to only 100 neurons, and use the ``generate_input_signal`` function from above to generate the input data, but otherwise feel free to do whatever you like. Some ideas:\n",
    "\n",
    "* Optimise the parameters ``tau``, ``w``\n",
    "* Use a different neuron model\n",
    "* Use a different method to estimate the IPD given the set of coincidence detector neuron counts\n",
    "\n",
    "After you've had a go, you might be interested in our related paper [Goodman et al. (2013)](https://elifesciences.org/articles/01312)."
   ]
  },
  {
   "cell_type": "markdown",
   "id": "3c5cddf5",
   "metadata": {},
   "source": [
    "### My attempt"
   ]
  },
  {
   "cell_type": "code",
   "execution_count": 8,
   "id": "01d041fb",
   "metadata": {},
   "outputs": [
    {
     "data": {
      "application/vnd.jupyter.widget-view+json": {
       "model_id": "dd785563b5c442508de0d82d40f23c96",
       "version_major": 2,
       "version_minor": 0
      },
      "text/plain": [
       "  0%|          | 0/11 [00:00<?, ?it/s]"
      ]
     },
     "metadata": {},
     "output_type": "display_data"
    },
    {
     "data": {
      "application/vnd.jupyter.widget-view+json": {
       "model_id": "a7501ef40ccc4c0eaa2eca9512bf96bc",
       "version_major": 2,
       "version_minor": 0
      },
      "text/plain": [
       "  0%|          | 0/36 [00:00<?, ?it/s]"
      ]
     },
     "metadata": {},
     "output_type": "display_data"
    },
    {
     "name": "stderr",
     "output_type": "stream",
     "text": [
      "WARNING    'tau' is an internal variable of group 'neurongroup', but also exists in the run namespace with the value 1.0. The internal variable will be used. [brian2.groups.group.Group.resolve.resolution_conflict]\n"
     ]
    },
    {
     "data": {
      "application/vnd.jupyter.widget-view+json": {
       "model_id": "3faa595bd6ff4a46984c83545b5e5abc",
       "version_major": 2,
       "version_minor": 0
      },
      "text/plain": [
       "  0%|          | 0/36 [00:00<?, ?it/s]"
      ]
     },
     "metadata": {},
     "output_type": "display_data"
    },
    {
     "name": "stderr",
     "output_type": "stream",
     "text": [
      "WARNING    'tau' is an internal variable of group 'neurongroup', but also exists in the run namespace with the value 1.2. The internal variable will be used. [brian2.groups.group.Group.resolve.resolution_conflict]\n"
     ]
    },
    {
     "data": {
      "application/vnd.jupyter.widget-view+json": {
       "model_id": "5fa8eaebbecf4c9b81064fb564a310ab",
       "version_major": 2,
       "version_minor": 0
      },
      "text/plain": [
       "  0%|          | 0/36 [00:00<?, ?it/s]"
      ]
     },
     "metadata": {},
     "output_type": "display_data"
    },
    {
     "name": "stderr",
     "output_type": "stream",
     "text": [
      "WARNING    'tau' is an internal variable of group 'neurongroup', but also exists in the run namespace with the value 1.4. The internal variable will be used. [brian2.groups.group.Group.resolve.resolution_conflict]\n"
     ]
    },
    {
     "data": {
      "application/vnd.jupyter.widget-view+json": {
       "model_id": "102aee5eb84c4402aa48c267203f9361",
       "version_major": 2,
       "version_minor": 0
      },
      "text/plain": [
       "  0%|          | 0/36 [00:00<?, ?it/s]"
      ]
     },
     "metadata": {},
     "output_type": "display_data"
    },
    {
     "name": "stderr",
     "output_type": "stream",
     "text": [
      "WARNING    'tau' is an internal variable of group 'neurongroup', but also exists in the run namespace with the value 1.6. The internal variable will be used. [brian2.groups.group.Group.resolve.resolution_conflict]\n"
     ]
    },
    {
     "data": {
      "application/vnd.jupyter.widget-view+json": {
       "model_id": "160712f9d385495da0052c722b72a9b4",
       "version_major": 2,
       "version_minor": 0
      },
      "text/plain": [
       "  0%|          | 0/36 [00:00<?, ?it/s]"
      ]
     },
     "metadata": {},
     "output_type": "display_data"
    },
    {
     "name": "stderr",
     "output_type": "stream",
     "text": [
      "WARNING    'tau' is an internal variable of group 'neurongroup', but also exists in the run namespace with the value 1.8. The internal variable will be used. [brian2.groups.group.Group.resolve.resolution_conflict]\n"
     ]
    },
    {
     "data": {
      "application/vnd.jupyter.widget-view+json": {
       "model_id": "2961ca21c13e4e09b6903fd3d954d5e2",
       "version_major": 2,
       "version_minor": 0
      },
      "text/plain": [
       "  0%|          | 0/36 [00:00<?, ?it/s]"
      ]
     },
     "metadata": {},
     "output_type": "display_data"
    },
    {
     "name": "stderr",
     "output_type": "stream",
     "text": [
      "WARNING    'tau' is an internal variable of group 'neurongroup', but also exists in the run namespace with the value 2.0. The internal variable will be used. [brian2.groups.group.Group.resolve.resolution_conflict]\n"
     ]
    },
    {
     "data": {
      "application/vnd.jupyter.widget-view+json": {
       "model_id": "50f57ecea3f94e01965133aead9fa730",
       "version_major": 2,
       "version_minor": 0
      },
      "text/plain": [
       "  0%|          | 0/36 [00:00<?, ?it/s]"
      ]
     },
     "metadata": {},
     "output_type": "display_data"
    },
    {
     "name": "stderr",
     "output_type": "stream",
     "text": [
      "WARNING    'tau' is an internal variable of group 'neurongroup', but also exists in the run namespace with the value 2.2. The internal variable will be used. [brian2.groups.group.Group.resolve.resolution_conflict]\n"
     ]
    },
    {
     "data": {
      "application/vnd.jupyter.widget-view+json": {
       "model_id": "95a3511c4e544b0f86aba3d0ea03d956",
       "version_major": 2,
       "version_minor": 0
      },
      "text/plain": [
       "  0%|          | 0/36 [00:00<?, ?it/s]"
      ]
     },
     "metadata": {},
     "output_type": "display_data"
    },
    {
     "name": "stderr",
     "output_type": "stream",
     "text": [
      "WARNING    'tau' is an internal variable of group 'neurongroup', but also exists in the run namespace with the value 2.4000000000000004. The internal variable will be used. [brian2.groups.group.Group.resolve.resolution_conflict]\n"
     ]
    },
    {
     "data": {
      "application/vnd.jupyter.widget-view+json": {
       "model_id": "11dd3ccd90ca41a2b6f9b412cb38c6c6",
       "version_major": 2,
       "version_minor": 0
      },
      "text/plain": [
       "  0%|          | 0/36 [00:00<?, ?it/s]"
      ]
     },
     "metadata": {},
     "output_type": "display_data"
    },
    {
     "name": "stderr",
     "output_type": "stream",
     "text": [
      "WARNING    'tau' is an internal variable of group 'neurongroup', but also exists in the run namespace with the value 2.6. The internal variable will be used. [brian2.groups.group.Group.resolve.resolution_conflict]\n"
     ]
    },
    {
     "data": {
      "application/vnd.jupyter.widget-view+json": {
       "model_id": "b1c0bcdb3ad44a90a02769db805c02ec",
       "version_major": 2,
       "version_minor": 0
      },
      "text/plain": [
       "  0%|          | 0/36 [00:00<?, ?it/s]"
      ]
     },
     "metadata": {},
     "output_type": "display_data"
    },
    {
     "name": "stderr",
     "output_type": "stream",
     "text": [
      "WARNING    'tau' is an internal variable of group 'neurongroup', but also exists in the run namespace with the value 2.8. The internal variable will be used. [brian2.groups.group.Group.resolve.resolution_conflict]\n"
     ]
    },
    {
     "data": {
      "application/vnd.jupyter.widget-view+json": {
       "model_id": "2b7c56b59891444c86f7787d85ca878b",
       "version_major": 2,
       "version_minor": 0
      },
      "text/plain": [
       "  0%|          | 0/36 [00:00<?, ?it/s]"
      ]
     },
     "metadata": {},
     "output_type": "display_data"
    },
    {
     "name": "stderr",
     "output_type": "stream",
     "text": [
      "WARNING    'tau' is an internal variable of group 'neurongroup', but also exists in the run namespace with the value 3.0. The internal variable will be used. [brian2.groups.group.Group.resolve.resolution_conflict]\n"
     ]
    }
   ],
   "source": [
    "def build_localiser(tau):\n",
    "    rate_max = 400*Hz\n",
    "    f = 50*Hz\n",
    "    duration = 1*second\n",
    "    w = 0.5\n",
    "    N_cd = 100\n",
    "    # taus = np.ones(N_cd) * ms\n",
    "\n",
    "\n",
    "    # This one performs the localisation from before, using just those\n",
    "    # arrays returned by the previous function, which we convert into\n",
    "    # a group of neurons in Brian using SpikeGeneratorGroup\n",
    "    def localise_from_input_tau(i, t):\n",
    "        ears = SpikeGeneratorGroup(2, i, t)\n",
    "\n",
    "        eqs_cd = '''\n",
    "        tau : second\n",
    "        dv/dt = -v/tau : 1\n",
    "        best_ipd = 2*pi*i/(N_cd-1) : 1\n",
    "        best_itd = best_ipd/(2*pi*f) : second\n",
    "        '''\n",
    "        cd = NeuronGroup(N_cd, eqs_cd, threshold='v>1', reset='v=0', method='exact')\n",
    "        cd.tau = tau*ms\n",
    "\n",
    "        S = Synapses(ears, cd, on_pre='v += w')\n",
    "        S.connect(p=1)\n",
    "        S.delay['i==1'] = 'best_itd'\n",
    "\n",
    "        M = SpikeMonitor(cd)\n",
    "\n",
    "        run(duration)\n",
    "\n",
    "        i = max(M.count)\n",
    "        I = M.count==i\n",
    "        ipd_est = mean(cd.best_ipd[I])\n",
    "\n",
    "        return ipd_est\n",
    "\n",
    "    return localise_from_input_tau\n",
    "\n",
    "\n",
    "test_taus = np.linspace(1, 3, 11)\n",
    "mean_errs = []\n",
    "\n",
    "for tau in tqdm(test_taus):\n",
    "    ipds, ipds_est = generate_results(build_localiser(tau), step_deg=10)\n",
    "    mean_errs.append(np.mean(compute_errors(ipds, ipds_est)))"
   ]
  },
  {
   "cell_type": "code",
   "execution_count": 9,
   "id": "43dfb64b",
   "metadata": {},
   "outputs": [
    {
     "data": {
      "text/plain": [
       "<matplotlib.collections.PathCollection at 0x7f1b15e3f550>"
      ]
     },
     "execution_count": 9,
     "metadata": {},
     "output_type": "execute_result"
    },
    {
     "data": {
      "image/png": "[encoded data removed]",
      "text/plain": [
       "<Figure size 432x288 with 1 Axes>"
      ]
     },
     "metadata": {
      "needs_background": "light"
     },
     "output_type": "display_data"
    }
   ],
   "source": [
    "_, ax = plt.subplots()\n",
    "ax.scatter(test_taus, mean_errs)"
   ]
  },
  {
   "cell_type": "code",
   "execution_count": 10,
   "id": "e0775109",
   "metadata": {},
   "outputs": [
    {
     "data": {
      "text/plain": [
       "array([1. , 1.2, 1.4, 1.6, 1.8, 2. , 2.2, 2.4, 2.6, 2.8, 3. ])"
      ]
     },
     "execution_count": 10,
     "metadata": {},
     "output_type": "execute_result"
    }
   ],
   "source": [
    "test_taus"
   ]
  },
  {
   "cell_type": "code",
   "execution_count": null,
   "id": "952562b2",
   "metadata": {},
   "outputs": [],
   "source": []
  }
 ],
 "metadata": {
  "kernelspec": {
   "display_name": "Python 3 (ipykernel)",
   "language": "python",
   "name": "python3"
  },
  "language_info": {
   "codemirror_mode": {
    "name": "ipython",
    "version": 3
   },
   "file_extension": ".py",
   "mimetype": "text/x-python",
   "name": "python",
   "nbconvert_exporter": "python",
   "pygments_lexer": "ipython3",
   "version": "3.10.2"
  },
  "toc": {
   "base_numbering": 1,
   "nav_menu": {},
   "number_sections": true,
   "sideBar": true,
   "skip_h1_title": false,
   "title_cell": "Table of Contents",
   "title_sidebar": "Contents",
   "toc_cell": false,
   "toc_position": {},
   "toc_section_display": true,
   "toc_window_display": true
  }
 },
 "nbformat": 4,
 "nbformat_minor": 5
}
